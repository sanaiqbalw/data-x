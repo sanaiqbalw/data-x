{
 "cells": [
  {
   "cell_type": "markdown",
   "metadata": {},
   "source": [
    "# Classification BKHW\n",
    "\n",
    "\n",
    "### Our  predictive machine learning models perform two types of tasks:\n",
    "\n",
    "* __CLASSIFICATION__:\n",
    "LABELS ARE DISCRETE VALUES.\n",
    "Here the model is trained to classify each instance into a set of predefined  discrete classes.\n",
    "On inputting a feature vector into the model, the trained model is able to predict a  class of that instance.\n",
    "\n",
    "Eg: We train our model using income and expenditure data of bank customers using  defaulter or non-defaulter as labels. When we input income and expenditure data  of any customer in this model, it will predict whether the customer is going to default or not.\n",
    "\n",
    "* __REGRESSION__:\n",
    "LABELS ARE CONTINUOUS VALUES.\n",
    "Here the model is trained to predict a continuous value for each instance.\n",
    "On inputting a feature vector into the model, the trained model is able to predict a continuous value  for  that instance.\n",
    "\n",
    "Eg: We train our model using income and expenditure data of bank customers using  amount default as the label. This model when input with income and expenditure data of any customer will be able to predict the default amount the customer might end up with.\n",
    "\n",
    "\n",
    "* __TO GET STARTED:__:\n",
    "\n",
    "We will use python library -SCIKIT-LEARN for our classification and regression models.\n",
    "\n",
    "1. Install numpy, scipy, scikit-learn.\n",
    "\n",
    "2. Download the dataset provided and save it in your current working directory.\n",
    "\n",
    "3. In the following sections  you will:\n",
    "\n",
    "    3.1 Read the dataset into the python program.\n",
    "    \n",
    "    3.2 Look  into the dataset characteristics, check for feature type - categorical or numerical.\n",
    "    \n",
    "    3.3 Find feature distributions to check sufficiency of data.\n",
    "    \n",
    "    3.4 Divide the dataset into training and validation subsets.\n",
    "    \n",
    "    3.5 Fit models with training data  using scikit-learn library.\n",
    "    \n",
    "    3.6 Calculate training error,this gives you the idea of bias in your model.\n",
    "    \n",
    "    3.7 Test model prediction accuracy using validation data,this gives you bias and variance error in the model.\n",
    "    \n",
    "    3.8 Report model performance on validation data using different metrics.\n",
    "    \n",
    "    3.9 Save the model parameters in a pickle file so that it can be used for test data.\n",
    "    \n",
    "    3.10 Implement 3-fold cross validation and report the If our data set is small we will have fewer examples for validation.\n",
    "This will not give us a a good estimatiion of model error.\n",
    "We can use  k-fold crossvalidation in such situations.\n",
    "In k-fold cross-validation, the shuffled training data is partitioned into k disjoint sets and the model is trained on k −1 sets and validated on the kth set. This process is repeated k times with each set\n",
    "chosen as the validation set once. The cross-validation accuracy is reported as the average accuracy\n",
    "of the k iterations\n",
    "\n",
    "\n"
   ]
  },
  {
   "cell_type": "markdown",
   "metadata": {},
   "source": [
    "# CLASSIFICATION"
   ]
  },
  {
   "cell_type": "code",
   "execution_count": 165,
   "metadata": {
    "collapsed": false
   },
   "outputs": [],
   "source": [
    "import numpy as np\n",
    "import pandas as pd \n",
    "import matplotlib.pyplot as plt\n",
    "\n",
    "\n",
    "\n"
   ]
  },
  {
   "cell_type": "code",
   "execution_count": 166,
   "metadata": {
    "collapsed": false
   },
   "outputs": [
    {
     "name": "stdout",
     "output_type": "stream",
     "text": [
      "Number of NaNs in the dataframe:\n",
      " sepal_length    0\n",
      "sepal_width     0\n",
      "species         0\n",
      "dtype: int64\n"
     ]
    },
    {
     "data": {
      "text/html": [
       "<div>\n",
       "<table border=\"1\" class=\"dataframe\">\n",
       "  <thead>\n",
       "    <tr style=\"text-align: right;\">\n",
       "      <th></th>\n",
       "      <th>sepal_length</th>\n",
       "      <th>sepal_width</th>\n",
       "      <th>species</th>\n",
       "    </tr>\n",
       "  </thead>\n",
       "  <tbody>\n",
       "    <tr>\n",
       "      <th>0</th>\n",
       "      <td>5.1</td>\n",
       "      <td>3.5</td>\n",
       "      <td>setosa</td>\n",
       "    </tr>\n",
       "    <tr>\n",
       "      <th>1</th>\n",
       "      <td>4.9</td>\n",
       "      <td>3.0</td>\n",
       "      <td>setosa</td>\n",
       "    </tr>\n",
       "    <tr>\n",
       "      <th>2</th>\n",
       "      <td>4.7</td>\n",
       "      <td>3.2</td>\n",
       "      <td>setosa</td>\n",
       "    </tr>\n",
       "    <tr>\n",
       "      <th>3</th>\n",
       "      <td>4.6</td>\n",
       "      <td>3.1</td>\n",
       "      <td>setosa</td>\n",
       "    </tr>\n",
       "    <tr>\n",
       "      <th>4</th>\n",
       "      <td>5.0</td>\n",
       "      <td>3.6</td>\n",
       "      <td>setosa</td>\n",
       "    </tr>\n",
       "  </tbody>\n",
       "</table>\n",
       "</div>"
      ],
      "text/plain": [
       "   sepal_length  sepal_width species\n",
       "0           5.1          3.5  setosa\n",
       "1           4.9          3.0  setosa\n",
       "2           4.7          3.2  setosa\n",
       "3           4.6          3.1  setosa\n",
       "4           5.0          3.6  setosa"
      ]
     },
     "execution_count": 166,
     "metadata": {},
     "output_type": "execute_result"
    }
   ],
   "source": [
    "\n",
    "file_path='iris_classification.csv'\n",
    "data=pd.read_csv(file_path)\n",
    "\n",
    "# Check if data has any NAN  values, you can choose to drop NAN \n",
    "# containing rows or replace NAN  values with mean. median,or any assumed value.\n",
    "\n",
    "\n",
    "print('Number of NaNs in the dataframe:\\n',data.isnull().sum())\n",
    "data.head()\n"
   ]
  },
  {
   "cell_type": "code",
   "execution_count": 167,
   "metadata": {
    "collapsed": false
   },
   "outputs": [
    {
     "data": {
      "text/html": [
       "<div>\n",
       "<table border=\"1\" class=\"dataframe\">\n",
       "  <thead>\n",
       "    <tr style=\"text-align: right;\">\n",
       "      <th></th>\n",
       "      <th>sepal_length</th>\n",
       "      <th>sepal_width</th>\n",
       "    </tr>\n",
       "  </thead>\n",
       "  <tbody>\n",
       "    <tr>\n",
       "      <th>0</th>\n",
       "      <td>5.1</td>\n",
       "      <td>3.5</td>\n",
       "    </tr>\n",
       "    <tr>\n",
       "      <th>1</th>\n",
       "      <td>4.9</td>\n",
       "      <td>3.0</td>\n",
       "    </tr>\n",
       "    <tr>\n",
       "      <th>2</th>\n",
       "      <td>4.7</td>\n",
       "      <td>3.2</td>\n",
       "    </tr>\n",
       "    <tr>\n",
       "      <th>3</th>\n",
       "      <td>4.6</td>\n",
       "      <td>3.1</td>\n",
       "    </tr>\n",
       "    <tr>\n",
       "      <th>4</th>\n",
       "      <td>5.0</td>\n",
       "      <td>3.6</td>\n",
       "    </tr>\n",
       "  </tbody>\n",
       "</table>\n",
       "</div>"
      ],
      "text/plain": [
       "   sepal_length  sepal_width\n",
       "0           5.1          3.5\n",
       "1           4.9          3.0\n",
       "2           4.7          3.2\n",
       "3           4.6          3.1\n",
       "4           5.0          3.6"
      ]
     },
     "execution_count": 167,
     "metadata": {},
     "output_type": "execute_result"
    }
   ],
   "source": [
    "# GET FEATURES FROM THE DATA\n",
    "X=data.iloc[:,:-1]\n",
    "X.head()"
   ]
  },
  {
   "cell_type": "code",
   "execution_count": 168,
   "metadata": {
    "collapsed": false
   },
   "outputs": [
    {
     "name": "stdout",
     "output_type": "stream",
     "text": [
      "setosa        50\n",
      "virginica     50\n",
      "versicolor    50\n",
      "Name: species, dtype: int64\n",
      "0    setosa\n",
      "1    setosa\n",
      "2    setosa\n",
      "3    setosa\n",
      "4    setosa\n",
      "Name: species, dtype: object\n",
      "\n",
      "We will map our class labels to integers and then use in modeling.\n",
      "The mapping is:'versicolor': 0, 'virginica': 1,'setosa' :2 \n",
      "\n",
      "2    50\n",
      "1    50\n",
      "0    50\n",
      "Name: species, dtype: int64\n"
     ]
    },
    {
     "data": {
      "text/plain": [
       "0    2\n",
       "1    2\n",
       "2    2\n",
       "3    2\n",
       "4    2\n",
       "Name: species, dtype: int64"
      ]
     },
     "execution_count": 168,
     "metadata": {},
     "output_type": "execute_result"
    }
   ],
   "source": [
    "# GET LABELS FROM THE DATA\n",
    "Y=data['species']\n",
    "print (Y.value_counts()) #gives the count of each label in the dataset\n",
    "print (Y.head())\n",
    "\n",
    "print (\"\\nWe will map our class labels to integers and then use in modeling.\\nThe mapping is:'versicolor': 0, 'virginica': 1,'setosa' :2 \\n\")\n",
    "\n",
    "Y=Y.map({'versicolor': 0, 'virginica': 1,'setosa' :2})\n",
    "print (Y.value_counts()) #gives the count of each label in the dataset\n",
    "\n",
    "Y.head()\n"
   ]
  },
  {
   "cell_type": "code",
   "execution_count": 169,
   "metadata": {
    "collapsed": false
   },
   "outputs": [
    {
     "name": "stdout",
     "output_type": "stream",
     "text": [
      "Feature vector shape= (150, 2)\n",
      "Class shape= (150,)\n"
     ]
    }
   ],
   "source": [
    "print(\"Feature vector shape=\", X.shape)\n",
    "print(\"Class shape=\", Y.shape)\n"
   ]
  },
  {
   "cell_type": "code",
   "execution_count": 170,
   "metadata": {
    "collapsed": false,
    "scrolled": false
   },
   "outputs": [
    {
     "data": {
      "image/png": "[encoded data removed]",
      "text/plain": [
       "<matplotlib.figure.Figure at 0x1104717b8>"
      ]
     },
     "metadata": {},
     "output_type": "display_data"
    }
   ],
   "source": [
    "# Get feature distribution of each feature\n",
    "data.hist(figsize=(5,5))\n",
    "plt.show()"
   ]
  },
  {
   "cell_type": "code",
   "execution_count": 171,
   "metadata": {
    "collapsed": false,
    "scrolled": true
   },
   "outputs": [
    {
     "data": {
      "image/png": "[encoded data removed]",
      "text/plain": [
       "<matplotlib.figure.Figure at 0x10e64d3c8>"
      ]
     },
     "metadata": {},
     "output_type": "display_data"
    },
    {
     "data": {
      "image/png": "[encoded data removed]",
      "text/plain": [
       "<matplotlib.figure.Figure at 0x10c5b4f98>"
      ]
     },
     "metadata": {},
     "output_type": "display_data"
    },
    {
     "data": {
      "image/png": "[encoded data removed]",
      "text/plain": [
       "<matplotlib.figure.Figure at 0x10e9c7048>"
      ]
     },
     "metadata": {},
     "output_type": "display_data"
    }
   ],
   "source": [
    "# Check feature distribution of each class, to get an overview of feature and class relationshhip, also useful in validating data\n",
    "data.groupby('species').hist(figsize=(5,5))\n",
    "plt.show()"
   ]
  },
  {
   "cell_type": "markdown",
   "metadata": {},
   "source": [
    "#### USE SKLEARN INBUILT FUNCTION TO BUILD A LOGISTIC REGRESSION MODEL  \n",
    "For Details check :\n",
    "http://scikit-learn.org/stable/modules/generated/sklearn.linear_model.LogisticRegression.html#sklearn.linear_model.LogisticRegression.fit\n",
    "\n",
    "In order to check the validity of our trained model, we keep a part of our dataset hidden from the model during training, called  __Validation data__.\n",
    "\n",
    "Validation data labels are predicted using the trained model and compared with the actual labels of the data.This gives us the idea about how well the model can be trusted for its predictive power."
   ]
  },
  {
   "cell_type": "code",
   "execution_count": 172,
   "metadata": {
    "collapsed": false
   },
   "outputs": [
    {
     "name": "stdout",
     "output_type": "stream",
     "text": [
      "Number of samples in training data: 120\n",
      "Number of samples in validation data: 30\n"
     ]
    }
   ],
   "source": [
    "# Split data into training and validation set  using sklearn function\n",
    "\n",
    "from sklearn.model_selection import train_test_split\n",
    "x_train, x_test, y_train, y_test = train_test_split(X, Y, test_size=0.2, random_state=100)\n",
    "print ('Number of samples in training data:',len(x_train))\n",
    "print ('Number of samples in validation data:',len(x_test))\n",
    "\n"
   ]
  },
  {
   "cell_type": "code",
   "execution_count": 173,
   "metadata": {
    "collapsed": false
   },
   "outputs": [
    {
     "name": "stdout",
     "output_type": "stream",
     "text": [
      "Training a logistic Regression Model..\n"
     ]
    },
    {
     "data": {
      "text/plain": [
       "LogisticRegression(C=100000.0, class_weight=None, dual=False,\n",
       "          fit_intercept=True, intercept_scaling=1, max_iter=100,\n",
       "          multi_class='ovr', n_jobs=1, penalty='l2', random_state=None,\n",
       "          solver='liblinear', tol=0.0001, verbose=0, warm_start=False)"
      ]
     },
     "execution_count": 173,
     "metadata": {},
     "output_type": "execute_result"
    }
   ],
   "source": [
    "from sklearn import linear_model\n",
    "\n",
    "# Name our regression object\n",
    "logreg_model = linear_model.LogisticRegression(C=1e5)\n",
    "# we create an instance of Neighbours Classifier and fit the data.\n",
    "\n",
    "print ('Training a logistic Regression Model..')\n",
    "logreg_model.fit(x_train, y_train)"
   ]
  },
  {
   "cell_type": "code",
   "execution_count": 174,
   "metadata": {
    "collapsed": false
   },
   "outputs": [
    {
     "name": "stdout",
     "output_type": "stream",
     "text": [
      "Training Accuracy: 0.791666666667\n"
     ]
    }
   ],
   "source": [
    "# TRAINING ACCURACY\n",
    "\n",
    "training_accuracy=logreg_model.score(x_train,y_train)\n",
    "print ('Training Accuracy:',training_accuracy)\n",
    "\n",
    "# OR :\n",
    "\n",
    "\n",
    "# this line below will predict a category for every row in x_train\n",
    "Z = logreg_model.predict(x_train) \n",
    "\n",
    "\n",
    "# Estimate errors in an array called L\n",
    "def find_error(Y,Z):\n",
    "    '''Y:actual_labels\n",
    "    Z:predicted_labels'''\n",
    "    \n",
    "    L = np.arange(len(Y))\n",
    "    for i,value in enumerate(Y):\n",
    "        if value == Z[i]: \n",
    "            L[i] = 0\n",
    "        else:\n",
    "            L[i] = 1\n",
    "\n",
    "    print (\"Y-actual Z-predicted Error \\n\")\n",
    "    for i,value in enumerate(Y):\n",
    "        print (value, Z[i], L[i])\n",
    "    error_rate=np.average(L)\n",
    "\n",
    "    print (\"\\nThe error rate is \", error_rate)\n",
    "    print ('\\nThe accuracy of the model is ',1-error_rate )\n",
    "\n",
    "    "
   ]
  },
  {
   "cell_type": "code",
   "execution_count": 175,
   "metadata": {
    "collapsed": false,
    "scrolled": true
   },
   "outputs": [
    {
     "name": "stdout",
     "output_type": "stream",
     "text": [
      "Y-actual Z-predicted Error \n",
      "\n",
      "0 0 0\n",
      "0 0 0\n",
      "1 0 1\n",
      "2 2 0\n",
      "2 2 0\n",
      "0 1 1\n",
      "2 2 0\n",
      "0 0 0\n",
      "1 1 0\n",
      "1 0 1\n",
      "2 2 0\n",
      "0 0 0\n",
      "1 1 0\n",
      "1 1 0\n",
      "2 2 0\n",
      "2 2 0\n",
      "2 2 0\n",
      "2 2 0\n",
      "0 0 0\n",
      "2 2 0\n",
      "2 2 0\n",
      "2 2 0\n",
      "0 1 1\n",
      "1 1 0\n",
      "1 0 1\n",
      "0 0 0\n",
      "1 0 1\n",
      "0 0 0\n",
      "1 1 0\n",
      "1 1 0\n",
      "0 0 0\n",
      "2 2 0\n",
      "1 1 0\n",
      "1 1 0\n",
      "1 0 1\n",
      "2 2 0\n",
      "2 2 0\n",
      "1 0 1\n",
      "2 2 0\n",
      "2 2 0\n",
      "2 2 0\n",
      "0 1 1\n",
      "1 1 0\n",
      "1 1 0\n",
      "1 0 1\n",
      "2 2 0\n",
      "0 1 1\n",
      "0 1 1\n",
      "2 2 0\n",
      "0 1 1\n",
      "0 0 0\n",
      "1 0 1\n",
      "2 2 0\n",
      "0 0 0\n",
      "0 0 0\n",
      "0 0 0\n",
      "0 1 1\n",
      "0 0 0\n",
      "0 0 0\n",
      "1 1 0\n",
      "1 0 1\n",
      "2 2 0\n",
      "0 0 0\n",
      "2 2 0\n",
      "0 1 1\n",
      "1 1 0\n",
      "1 1 0\n",
      "1 0 1\n",
      "0 0 0\n",
      "2 2 0\n",
      "2 2 0\n",
      "2 2 0\n",
      "2 2 0\n",
      "1 0 1\n",
      "2 2 0\n",
      "2 2 0\n",
      "0 1 1\n",
      "2 2 0\n",
      "1 1 0\n",
      "0 0 0\n",
      "1 1 0\n",
      "2 2 0\n",
      "1 0 1\n",
      "1 1 0\n",
      "2 2 0\n",
      "0 0 0\n",
      "0 0 0\n",
      "0 0 0\n",
      "1 1 0\n",
      "0 0 0\n",
      "0 1 1\n",
      "2 2 0\n",
      "2 2 0\n",
      "2 2 0\n",
      "1 1 0\n",
      "0 0 0\n",
      "0 0 0\n",
      "2 2 0\n",
      "1 1 0\n",
      "1 1 0\n",
      "1 1 0\n",
      "0 1 1\n",
      "0 0 0\n",
      "0 1 1\n",
      "0 0 0\n",
      "1 1 0\n",
      "1 1 0\n",
      "2 2 0\n",
      "2 2 0\n",
      "0 0 0\n",
      "0 0 0\n",
      "0 0 0\n",
      "0 0 0\n",
      "1 0 1\n",
      "0 0 0\n",
      "0 0 0\n",
      "1 1 0\n",
      "0 0 0\n",
      "2 2 0\n",
      "2 2 0\n",
      "\n",
      "The error rate is  0.208333333333\n",
      "\n",
      "The accuracy of the model is  0.791666666667\n"
     ]
    }
   ],
   "source": [
    "find_error(y_train,Z)"
   ]
  },
  {
   "cell_type": "code",
   "execution_count": 176,
   "metadata": {
    "collapsed": false
   },
   "outputs": [
    {
     "name": "stdout",
     "output_type": "stream",
     "text": [
      "Accuraacy of the model on unseen validation data:  0.833333333333\n"
     ]
    }
   ],
   "source": [
    "# VALIDATION ACCURACY: \n",
    "# we will find accuracy of the model \n",
    "# using data that was not used for training the model\n",
    "\n",
    "validation_accuracy=logreg_model.score(x_test,y_test)\n",
    "print('Accuraacy of the model on unseen validation data: ',validation_accuracy)"
   ]
  },
  {
   "cell_type": "code",
   "execution_count": 177,
   "metadata": {
    "collapsed": false
   },
   "outputs": [
    {
     "name": "stdout",
     "output_type": "stream",
     "text": [
      "finished Z\n",
      "finished Z2\n"
     ]
    }
   ],
   "source": [
    "# PLOT THE DECISION BOUNDARIES:\n",
    "# 1.create meshgrid of all points between \n",
    "\n",
    "#For that we will create a mesh between [x_min, x_max]x[y_min, y_max].\n",
    "h = 0.02  # step size in the mesh\n",
    "x_min = X['sepal_length'].min() - .5\n",
    "x_max =X['sepal_length'].max() + .5\n",
    "y_min = X['sepal_width'].min() - .5\n",
    "y_max = X['sepal_width'].max() + .5\n",
    "\n",
    "\n",
    "\n",
    "# print x_min, x_max, y_min, y_max\n",
    "xr = np.arange(x_min, x_max, h)\n",
    "yr = np.arange(y_min, y_max, h)\n",
    "\n",
    "xx, yy = np.meshgrid(xr, yr)\n",
    "Z = logreg_model.predict(np.c_[xx.ravel(), yy.ravel()])\n",
    "\n",
    "\n",
    "# Notes to help read code\n",
    "# numpy.ravel(a, order='C')  Return a contiguous flattened array. \n",
    "#‘C’ means to index the elements in row-major, C-style order, with \n",
    "# the last axis index changing fastest, back to the first axis index changing slowest.\n",
    "\n",
    "# numpy.c_ = <numpy.lib.index_tricks.CClass object at 0x49cad40c>\n",
    "# Translates slice objects to concatenation along the second axis.\n",
    "# >>> np.c_[np.array([[1,2,3]]), 0, 0, np.array([[4,5,6]])]\n",
    "# provides: array([[1, 2, 3, 0, 0, 4, 5, 6]])\n",
    "\n",
    "print ('finished Z')\n",
    "\n",
    "# another approach is to make an array Z2 which has all the predicted values in (xr,yr).  \n",
    "# This takes longer\n",
    "Z2 = np.arange(len(xr)*len(yr)).reshape(len(xr),len(yr))\n",
    "for yni in range(len(yr)):\n",
    "    for xni in range(len(xr)):\n",
    "#         print (xni, yni, logreg_model.predict([[xr[xni],yr[yni]]]))\n",
    "\n",
    "        Z2[xni,yni] =logreg_model.predict([[xr[xni],yr[yni]]])\n",
    "print ('finished Z2')\n",
    "\n",
    "\n",
    "\n"
   ]
  },
  {
   "cell_type": "code",
   "execution_count": 178,
   "metadata": {
    "collapsed": false
   },
   "outputs": [
    {
     "name": "stdout",
     "output_type": "stream",
     "text": [
      "(39501,)\n",
      "230 170\n"
     ]
    }
   ],
   "source": [
    "# try these to better undertand the code above\n",
    "print (Z.shape)\n",
    "#print len(xr), len(yr)\n",
    "#print Z2.shape\n",
    "#Z2[[1,1]] = 2\n",
    "print (xni, yni)\n",
    "#print xx[0,01]\n",
    "#print yy[0,10]"
   ]
  },
  {
   "cell_type": "code",
   "execution_count": 179,
   "metadata": {
    "collapsed": false
   },
   "outputs": [
    {
     "data": {
      "image/png": "[encoded data removed]",
      "text/plain": [
       "<matplotlib.figure.Figure at 0x112607f28>"
      ]
     },
     "metadata": {},
     "output_type": "display_data"
    }
   ],
   "source": [
    "# Put the result into a color plot\n",
    "Z = Z.reshape(xx.shape)\n",
    "plt.figure(1, figsize=(4, 3))\n",
    "plt.pcolormesh(xx, yy, Z, cmap=plt.cm.Paired)\n",
    "\n",
    "\n",
    "# Plot also the training points\n",
    "# plt.scatter(X[:, 0], X[:, 1], c=Y, edgecolors='k', cmap=plt.cm.Paired)\n",
    "# plt.xlabel('Sepal length')\n",
    "# plt.ylabel('Sepal width')\n",
    "\n",
    "# plt.xlim(xx.min(), xx.max())\n",
    "# plt.ylim(yy.min(), yy.max())\n",
    "# plt.xticks(())\n",
    "# plt.yticks(())\n",
    "\n",
    "plt.show()\n"
   ]
  },
  {
   "cell_type": "code",
   "execution_count": 180,
   "metadata": {
    "collapsed": false
   },
   "outputs": [
    {
     "data": {
      "image/png": "[encoded data removed]",
      "text/plain": [
       "<matplotlib.figure.Figure at 0x10c780fd0>"
      ]
     },
     "metadata": {},
     "output_type": "display_data"
    }
   ],
   "source": [
    "# Plot also the training points\n",
    "plt.scatter(X['sepal_length'], X['sepal_width'], c=Y, edgecolors='k', cmap=plt.cm.Paired)\n",
    "plt.xlabel('Sepal length')\n",
    "plt.ylabel('Sepal width')\n",
    "plt.colorbar()\n",
    "plt.xlim(xx.min(), xx.max())\n",
    "plt.ylim(yy.min(), yy.max())\n",
    "plt.xticks(())\n",
    "plt.yticks(())\n",
    "\n",
    "plt.show()"
   ]
  },
  {
   "cell_type": "code",
   "execution_count": 181,
   "metadata": {
    "collapsed": false
   },
   "outputs": [
    {
     "data": {
      "image/png": "[encoded data removed]",
      "text/plain": [
       "<matplotlib.figure.Figure at 0x113d95eb8>"
      ]
     },
     "metadata": {},
     "output_type": "display_data"
    }
   ],
   "source": [
    "# Put the result into a color plot of decison boundary\n",
    "Z = Z.reshape(xx.shape)\n",
    "plt.figure(1, figsize=(4, 3))\n",
    "plt.pcolormesh(xx, yy, Z, cmap=plt.cm.Paired)\n",
    "\n",
    "# Plot also the training points\n",
    "plt.scatter(x_train['sepal_length'], x_train['sepal_width'], c=y_train, edgecolors='k', cmap=plt.cm.Paired)\n",
    "plt.xlabel('Sepal length')\n",
    "plt.ylabel('Sepal width')\n",
    "\n",
    "plt.xlim(xx.min(), xx.max())\n",
    "plt.ylim(yy.min(), yy.max())\n",
    "plt.xticks(())\n",
    "plt.yticks(())\n",
    "\n",
    "plt.show()\n"
   ]
  },
  {
   "cell_type": "code",
   "execution_count": 182,
   "metadata": {
    "collapsed": false
   },
   "outputs": [
    {
     "data": {
      "image/png": "[encoded data removed]",
      "text/plain": [
       "<matplotlib.figure.Figure at 0x113dbbb38>"
      ]
     },
     "metadata": {},
     "output_type": "display_data"
    }
   ],
   "source": [
    "\n",
    "fig, ax = plt.subplots(nrows=1,ncols=2,figsize=(10,5))\n",
    "\n",
    "\n",
    "plt.subplot(1,2,1)\n",
    "Z = Z.reshape(xx.shape)\n",
    "plt.figure(1, figsize=(5,5))\n",
    "plt.pcolormesh(xx, yy, Z, cmap=plt.cm.Paired)\n",
    "plt.colorbar()\n",
    "# Plot also the training points\n",
    "plt.scatter(x_test['sepal_length'], x_test['sepal_width'], c=logreg_model.predict(x_test), edgecolors='k', cmap=plt.cm.Paired)\n",
    "plt.xlabel('Sepal length')\n",
    "plt.ylabel('Sepal width')\n",
    "plt.title('VALIDATION DATA -PREDICTED LABELS')\n",
    "# plt.xlim(xx.min(), xx.max())\n",
    "# plt.ylim(yy.min(), yy.max())\n",
    "# plt.xticks(())\n",
    "# plt.yticks(())\n",
    "# # plt.legend()\n",
    "\n",
    "\n",
    "\n",
    "plt.subplot(1,2,2)\n",
    "Z = Z.reshape(xx.shape)\n",
    "plt.figure(1, figsize=(4, 3))\n",
    "plt.pcolormesh(xx, yy, Z, cmap=plt.cm.Paired)\n",
    "\n",
    "label=np.unique(y_test)\n",
    "plt.title('VALIDATION DATA -Actual LABELS')\n",
    "# Plot also the training points\n",
    "plt.scatter(x_test['sepal_length'], x_test['sepal_width'], c=y_test,label=np.unique(y_test), edgecolors='k', cmap=plt.cm.Paired)\n",
    "plt.xlabel('Sepal length')\n",
    "plt.ylabel('Sepal width')\n",
    "\n",
    "# plt.xlim(xx.min(), xx.max())\n",
    "# plt.ylim(yy.min(), yy.max())\n",
    "# plt.xticks(())\n",
    "# plt.yticks(())\n",
    "# plt.legend()\n",
    "\n",
    "plt.show()"
   ]
  },
  {
   "cell_type": "code",
   "execution_count": null,
   "metadata": {
    "collapsed": true
   },
   "outputs": [],
   "source": []
  },
  {
   "cell_type": "markdown",
   "metadata": {},
   "source": [
    "# Homework Break Out Section\n",
    "\n",
    "\n",
    "## Regression and Classification:\n",
    "__Data Source__:\n",
    "Datafile is in the working directory by name: __Energy.csv__\n",
    "\n",
    "The dataset was created by Angeliki Xifara ( Civil/Structural Engineer) and was processed by Athanasios Tsanas, Oxford Centre for Industrial and Applied Mathematics, University of Oxford, UK).\n",
    "\n",
    "__Data Description__:\n",
    "\n",
    "The dataset contains eight attributes of a building (or features, denoted by X1...X8) and response being the heating load on the building, y1. \n",
    "\n",
    "* X1\tRelative Compactness \n",
    "* X2\tSurface Area \n",
    "* X3\tWall Area \n",
    "*  X4\tRoof Area \n",
    "*  X5\tOverall Height \n",
    "* X6\tOrientation \n",
    "*  X7\tGlazing Area \n",
    "*  X8\tGlazing Area Distribution \n",
    "*  y1\tHeating Load \n"
   ]
  },
  {
   "cell_type": "markdown",
   "metadata": {},
   "source": [
    "## Q1:Read the data file in python"
   ]
  },
  {
   "cell_type": "code",
   "execution_count": null,
   "metadata": {
    "collapsed": false,
    "scrolled": true
   },
   "outputs": [],
   "source": [
    "\n"
   ]
  },
  {
   "cell_type": "markdown",
   "metadata": {},
   "source": [
    "## Q2.1:Describe data features in terms of type, distribution range and mean values."
   ]
  },
  {
   "cell_type": "code",
   "execution_count": null,
   "metadata": {
    "collapsed": false
   },
   "outputs": [],
   "source": []
  },
  {
   "cell_type": "markdown",
   "metadata": {},
   "source": [
    "## Q2.2:Plot feature distributions.This step should give you clues about data sufficiency."
   ]
  },
  {
   "cell_type": "code",
   "execution_count": null,
   "metadata": {
    "collapsed": false
   },
   "outputs": [],
   "source": [
    "\n"
   ]
  },
  {
   "cell_type": "markdown",
   "metadata": {
    "collapsed": false
   },
   "source": [
    "## Q3.1: Train a linear regression model on 85 percent of the given dataset, what is the intercept value and coefficient values.\n",
    "\n",
    "__Linear regression__ is a predictive modeling technique for predicting a numeric response variable based on features.  \n",
    "\"Linear\" in the name linear regression refers to the fact that this method fits a model where response bears linear relationship with features. (ie Z is proportional to first power of x)\n",
    "\n",
    "__Z = X0 + a(X1) + b(X2) +.... where:__   \n",
    "Z: predicted response  \n",
    "X0: intercept  \n",
    "a,b,..: Coefficients of X1,X2..  \n",
    "\n",
    "If Y is the actual response and Z is the predicted response,    \n",
    "__Y-Z= Residual__  \n",
    "Average Residual defines model performance,residual equal to zero represents a perfect fit model.\n"
   ]
  },
  {
   "cell_type": "code",
   "execution_count": null,
   "metadata": {
    "collapsed": false
   },
   "outputs": [],
   "source": [
    "\n"
   ]
  },
  {
   "cell_type": "markdown",
   "metadata": {
    "collapsed": true
   },
   "source": [
    "\n",
    "## Q3.2: Report model performance using 'ROOT MEAN SQUARE' error metric on:  \n",
    "###   1. Data that was used for training(Training error)   \n",
    "###  2. On the 15 percent of unseen data (test error)  \n",
    "\n"
   ]
  },
  {
   "cell_type": "code",
   "execution_count": null,
   "metadata": {
    "collapsed": false
   },
   "outputs": [],
   "source": []
  },
  {
   "cell_type": "markdown",
   "metadata": {},
   "source": [
    "\n",
    "## Q4: Use varying data amounts  from your training data (100,200,300,400,500,all) to train models and report  training error and validation error.Plot error rates vs number of training examples.Do you see any relation.\n",
    "\n",
    "#### Hint: Shuffle data, convert to arrays, use array indexing "
   ]
  },
  {
   "cell_type": "code",
   "execution_count": null,
   "metadata": {
    "collapsed": false
   },
   "outputs": [],
   "source": []
  },
  {
   "cell_type": "markdown",
   "metadata": {},
   "source": [
    "## Q5: Scale features(Min-Max scaling) in the range [0,1] i.e unity based normalization and train the model again, compare model performance in training and validation with your previous model.\n"
   ]
  },
  {
   "cell_type": "code",
   "execution_count": null,
   "metadata": {
    "collapsed": false
   },
   "outputs": [],
   "source": []
  },
  {
   "cell_type": "code",
   "execution_count": null,
   "metadata": {
    "collapsed": true
   },
   "outputs": [],
   "source": []
  },
  {
   "cell_type": "markdown",
   "metadata": {},
   "source": [
    "## Q6.1: Convert your problem into a classification problem. Bucket values of 'y1' i.e 'Heating Load'  in the original dataset into 3 classes: \n",
    "### 0:'Low' ( < 15),  1:'Medium'  (15-30),    2: 'High'  (>30)\n",
    "\n",
    "\n",
    "HINT: Use panadas.cut\n",
    "\n",
    "## Q6.2 : Use this datset for creating a  logistic regression classifiction model for predicting heating load type of a building. Use test-train split ratio of 0.15"
   ]
  },
  {
   "cell_type": "code",
   "execution_count": null,
   "metadata": {
    "collapsed": true
   },
   "outputs": [],
   "source": []
  },
  {
   "cell_type": "code",
   "execution_count": null,
   "metadata": {
    "collapsed": true
   },
   "outputs": [],
   "source": []
  }
 ],
 "metadata": {
  "kernelspec": {
   "display_name": "Python 3",
   "language": "python",
   "name": "python3"
  },
  "language_info": {
   "codemirror_mode": {
    "name": "ipython",
    "version": 3
   },
   "file_extension": ".py",
   "mimetype": "text/x-python",
   "name": "python",
   "nbconvert_exporter": "python",
   "pygments_lexer": "ipython3",
   "version": "3.6.0"
  }
 },
 "nbformat": 4,
 "nbformat_minor": 2
}
